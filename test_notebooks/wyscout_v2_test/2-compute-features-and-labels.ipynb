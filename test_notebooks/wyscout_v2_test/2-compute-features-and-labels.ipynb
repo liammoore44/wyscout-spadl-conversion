{
 "cells": [
  {
   "cell_type": "code",
   "execution_count": 1,
   "metadata": {
    "execution": {
     "iopub.execute_input": "2021-09-17T14:00:32.690247Z",
     "iopub.status.busy": "2021-09-17T14:00:32.689324Z",
     "iopub.status.idle": "2021-09-17T14:00:33.366564Z",
     "shell.execute_reply": "2021-09-17T14:00:33.365877Z"
    }
   },
   "outputs": [],
   "source": [
    "import os\n",
    "import warnings\n",
    "import tqdm\n",
    "import pandas as pd\n",
    "warnings.simplefilter(action='ignore', category=pd.errors.PerformanceWarning)"
   ]
  },
  {
   "cell_type": "code",
   "execution_count": 2,
   "metadata": {
    "execution": {
     "iopub.execute_input": "2021-09-17T14:00:33.374467Z",
     "iopub.status.busy": "2021-09-17T14:00:33.373761Z",
     "iopub.status.idle": "2021-09-17T14:00:34.991517Z",
     "shell.execute_reply": "2021-09-17T14:00:34.990503Z"
    }
   },
   "outputs": [],
   "source": [
    "%load_ext autoreload\n",
    "%autoreload 2\n",
    "import socceraction.spadl as spadl\n",
    "import socceraction.vaep.features as fs\n",
    "import socceraction.vaep.labels as lab"
   ]
  },
  {
   "cell_type": "markdown",
   "metadata": {},
   "source": [
    "## Select data"
   ]
  },
  {
   "cell_type": "code",
   "execution_count": 3,
   "metadata": {
    "execution": {
     "iopub.execute_input": "2021-09-17T14:00:34.996740Z",
     "iopub.status.busy": "2021-09-17T14:00:34.996020Z",
     "iopub.status.idle": "2021-09-17T14:00:35.024141Z",
     "shell.execute_reply": "2021-09-17T14:00:35.023479Z"
    }
   },
   "outputs": [],
   "source": [
    "# Configure file and folder names\n",
    "datafolder = \"../data-fifa\"\n",
    "spadl_h5 = os.path.join(datafolder, \"spadl-statsbomb.h5\")\n",
    "features_h5 = os.path.join(datafolder, \"features.h5\")\n",
    "labels_h5 = os.path.join(datafolder, \"labels.h5\")"
   ]
  },
  {
   "cell_type": "code",
   "execution_count": 4,
   "metadata": {
    "execution": {
     "iopub.execute_input": "2021-09-17T14:00:35.027851Z",
     "iopub.status.busy": "2021-09-17T14:00:35.027237Z",
     "iopub.status.idle": "2021-09-17T14:00:35.109489Z",
     "shell.execute_reply": "2021-09-17T14:00:35.110007Z"
    }
   },
   "outputs": [
    {
     "name": "stdout",
     "output_type": "stream",
     "text": [
      "nb of games: 64\n"
     ]
    }
   ],
   "source": [
    "games = pd.read_hdf(spadl_h5, \"games\")\n",
    "print(\"nb of games:\", len(games))"
   ]
  },
  {
   "cell_type": "markdown",
   "metadata": {},
   "source": [
    "## Compute features"
   ]
  },
  {
   "cell_type": "code",
   "execution_count": 5,
   "metadata": {
    "execution": {
     "iopub.execute_input": "2021-09-17T14:00:35.117363Z",
     "iopub.status.busy": "2021-09-17T14:00:35.116587Z",
     "iopub.status.idle": "2021-09-17T14:01:05.989040Z",
     "shell.execute_reply": "2021-09-17T14:01:05.988232Z"
    }
   },
   "outputs": [
    {
     "name": "stderr",
     "output_type": "stream",
     "text": [
      "Generating and storing features in ../data-fifa/features.h5: 100%|██████████| 64/64 [00:30<00:00,  2.08it/s]\n"
     ]
    }
   ],
   "source": [
    "xfns = [\n",
    "    fs.actiontype,\n",
    "    fs.actiontype_onehot,\n",
    "    fs.bodypart,\n",
    "    fs.bodypart_onehot,\n",
    "    fs.result,\n",
    "    fs.result_onehot,\n",
    "    fs.goalscore,\n",
    "    fs.startlocation,\n",
    "    fs.endlocation,\n",
    "    fs.movement,\n",
    "    fs.space_delta,\n",
    "    fs.startpolar,\n",
    "    fs.endpolar,\n",
    "    fs.team,\n",
    "    fs.time,\n",
    "    fs.time_delta\n",
    "]\n",
    "\n",
    "for game in tqdm.tqdm(list(games.itertuples()), desc=f\"Generating and storing features in {features_h5}\"):\n",
    "    actions = pd.read_hdf(spadl_h5, f\"actions/game_{game.game_id}\")\n",
    "    gamestates = fs.gamestates(spadl.add_names(actions), 3)\n",
    "    gamestates = fs.play_left_to_right(gamestates, game.home_team_id)\n",
    "    \n",
    "    X = pd.concat([fn(gamestates) for fn in xfns], axis=1)\n",
    "    X.to_hdf(features_h5, f\"game_{game.game_id}\")"
   ]
  },
  {
   "cell_type": "markdown",
   "metadata": {},
   "source": [
    "## Compute labels"
   ]
  },
  {
   "cell_type": "code",
   "execution_count": 6,
   "metadata": {
    "execution": {
     "iopub.execute_input": "2021-09-17T14:01:05.998092Z",
     "iopub.status.busy": "2021-09-17T14:01:05.996866Z",
     "iopub.status.idle": "2021-09-17T14:01:21.419944Z",
     "shell.execute_reply": "2021-09-17T14:01:21.418987Z"
    }
   },
   "outputs": [
    {
     "name": "stderr",
     "output_type": "stream",
     "text": [
      "Computing and storing labels in ../data-fifa/labels.h5: 100%|██████████| 64/64 [00:15<00:00,  4.16it/s]\n"
     ]
    }
   ],
   "source": [
    "yfns = [lab.scores, lab.concedes, lab.goal_from_shot]\n",
    "\n",
    "for game in tqdm.tqdm(list(games.itertuples()), desc=f\"Computing and storing labels in {labels_h5}\"):\n",
    "    actions = pd.read_hdf(spadl_h5, f\"actions/game_{game.game_id}\")   \n",
    "    Y = pd.concat([fn(spadl.add_names(actions)) for fn in yfns], axis=1)\n",
    "    Y.to_hdf(labels_h5, f\"game_{game.game_id}\")"
   ]
  },
  {
   "cell_type": "code",
   "execution_count": null,
   "metadata": {},
   "outputs": [],
   "source": []
  }
 ],
 "metadata": {
  "kernelspec": {
   "display_name": "socceraction",
   "language": "python",
   "name": "socceraction"
  },
  "language_info": {
   "codemirror_mode": {
    "name": "ipython",
    "version": 3
   },
   "file_extension": ".py",
   "mimetype": "text/x-python",
   "name": "python",
   "nbconvert_exporter": "python",
   "pygments_lexer": "ipython3",
   "version": "3.6.2"
  },
  "toc": {
   "base_numbering": 1,
   "nav_menu": {},
   "number_sections": true,
   "sideBar": true,
   "skip_h1_title": false,
   "title_cell": "Table of Contents",
   "title_sidebar": "Contents",
   "toc_cell": false,
   "toc_position": {},
   "toc_section_display": true,
   "toc_window_display": true
  },
  "varInspector": {
   "cols": {
    "lenName": 16,
    "lenType": 16,
    "lenVar": 40
   },
   "kernels_config": {
    "python": {
     "delete_cmd_postfix": "",
     "delete_cmd_prefix": "del ",
     "library": "var_list.py",
     "varRefreshCmd": "print(var_dic_list())"
    },
    "r": {
     "delete_cmd_postfix": ") ",
     "delete_cmd_prefix": "rm(",
     "library": "var_list.r",
     "varRefreshCmd": "cat(var_dic_list()) "
    }
   },
   "types_to_exclude": [
    "module",
    "function",
    "builtin_function_or_method",
    "instance",
    "_Feature"
   ],
   "window_display": false
  }
 },
 "nbformat": 4,
 "nbformat_minor": 2
}
